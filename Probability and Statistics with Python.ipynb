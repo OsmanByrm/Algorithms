{
 "cells": [
  {
   "cell_type": "code",
   "execution_count": 3,
   "id": "cc4e6b64-f649-4e2d-8207-5076b7d8579e",
   "metadata": {},
   "outputs": [],
   "source": [
    "#İstatistiks ve veri bilime giriş"
   ]
  },
  {
   "cell_type": "code",
   "execution_count": 7,
   "id": "0e9d3ba1-ba14-4f7f-b0b7-7330b73e173a",
   "metadata": {},
   "outputs": [],
   "source": [
    "import math\n",
    "import numpy as np\n",
    "import statistics \n",
    "import scipy.stats\n",
    "import pandas as pd"
   ]
  },
  {
   "cell_type": "code",
   "execution_count": 9,
   "id": "9cda4621-77f6-4758-8722-0277cc93fcc6",
   "metadata": {},
   "outputs": [],
   "source": [
    "x = [60, 84, 65,67,75, 72, 80, 85, 63, 82, 70, 75]"
   ]
  },
  {
   "cell_type": "code",
   "execution_count": 11,
   "id": "2a16ceef-4a46-4e71-9299-8637ae2fb688",
   "metadata": {},
   "outputs": [
    {
     "data": {
      "text/plain": [
       "[60, 84, 65, 67, 75, 72, 80, 85, 63, 82, 70, 75]"
      ]
     },
     "execution_count": 11,
     "metadata": {},
     "output_type": "execute_result"
    }
   ],
   "source": [
    "x"
   ]
  },
  {
   "cell_type": "code",
   "execution_count": 13,
   "id": "4dd1f419-d32e-4e2f-99b7-c0537c4a86c4",
   "metadata": {},
   "outputs": [
    {
     "data": {
      "text/plain": [
       "list"
      ]
     },
     "execution_count": 13,
     "metadata": {},
     "output_type": "execute_result"
    }
   ],
   "source": [
    "type(x)"
   ]
  },
  {
   "cell_type": "code",
   "execution_count": 15,
   "id": "dd10fae5-729f-4049-ae68-7b9a95160ad5",
   "metadata": {},
   "outputs": [],
   "source": [
    "x_nan = [math.nan,60, 84, 65,67,75, 72, 80, 85, 63, 82, 70, 75 ]"
   ]
  },
  {
   "cell_type": "code",
   "execution_count": 17,
   "id": "7db064f3-d3a9-44c9-ae7d-4fe4ee1f71ac",
   "metadata": {},
   "outputs": [
    {
     "data": {
      "text/plain": [
       "[nan, 60, 84, 65, 67, 75, 72, 80, 85, 63, 82, 70, 75]"
      ]
     },
     "execution_count": 17,
     "metadata": {},
     "output_type": "execute_result"
    }
   ],
   "source": [
    "x_nan"
   ]
  },
  {
   "cell_type": "code",
   "execution_count": 19,
   "id": "8d16ea38-3f2b-4d29-9cf9-d7821fbec916",
   "metadata": {},
   "outputs": [
    {
     "data": {
      "text/plain": [
       "list"
      ]
     },
     "execution_count": 19,
     "metadata": {},
     "output_type": "execute_result"
    }
   ],
   "source": [
    "type(x)"
   ]
  },
  {
   "cell_type": "markdown",
   "id": "798188f2-e6f0-4cc5-9a0b-3ff0a8e52b31",
   "metadata": {},
   "source": [
    "# Konum Ölçüleri"
   ]
  },
  {
   "cell_type": "code",
   "execution_count": 25,
   "id": "02d44a54-ea0b-4d30-a26c-53bc42932418",
   "metadata": {},
   "outputs": [],
   "source": [
    "## Ortalama"
   ]
  },
  {
   "cell_type": "code",
   "execution_count": 29,
   "id": "1199061a-8098-448b-9ce2-a6d8524b8c93",
   "metadata": {},
   "outputs": [],
   "source": [
    "#Pure Python ile"
   ]
  },
  {
   "cell_type": "code",
   "execution_count": 31,
   "id": "cec4fcfd-a536-4cdd-9a4c-dd3428c92898",
   "metadata": {},
   "outputs": [
    {
     "data": {
      "text/plain": [
       "878"
      ]
     },
     "execution_count": 31,
     "metadata": {},
     "output_type": "execute_result"
    }
   ],
   "source": [
    "sum(x)"
   ]
  },
  {
   "cell_type": "code",
   "execution_count": 35,
   "id": "fb9b6b32-074a-497a-b996-3037f5d24d51",
   "metadata": {},
   "outputs": [
    {
     "data": {
      "text/plain": [
       "12"
      ]
     },
     "execution_count": 35,
     "metadata": {},
     "output_type": "execute_result"
    }
   ],
   "source": [
    "len(x)"
   ]
  },
  {
   "cell_type": "code",
   "execution_count": 37,
   "id": "29a0afb7-145e-49df-a2b0-95520c26a9be",
   "metadata": {},
   "outputs": [],
   "source": [
    "mean = sum(x)/len(x)"
   ]
  },
  {
   "cell_type": "code",
   "execution_count": 39,
   "id": "327246fa-e6be-49b9-8d35-754ceb9420c5",
   "metadata": {},
   "outputs": [
    {
     "data": {
      "text/plain": [
       "73.16666666666667"
      ]
     },
     "execution_count": 39,
     "metadata": {},
     "output_type": "execute_result"
    }
   ],
   "source": [
    "mean"
   ]
  },
  {
   "cell_type": "code",
   "execution_count": 41,
   "id": "cb4df67f-3bb9-4688-9b91-0dc463ca9f65",
   "metadata": {},
   "outputs": [],
   "source": [
    "# kütüphane  kullanarak \n",
    "mean = statistics.mean(x)"
   ]
  },
  {
   "cell_type": "code",
   "execution_count": 43,
   "id": "ed92b0ff-3689-442c-a0a0-733defe4a7a1",
   "metadata": {},
   "outputs": [
    {
     "data": {
      "text/plain": [
       "73.16666666666667"
      ]
     },
     "execution_count": 43,
     "metadata": {},
     "output_type": "execute_result"
    }
   ],
   "source": [
    "mean"
   ]
  },
  {
   "cell_type": "code",
   "execution_count": 45,
   "id": "fdbaa328-bf3e-4517-9b9d-6019c39718f3",
   "metadata": {},
   "outputs": [
    {
     "data": {
      "text/plain": [
       "73.16666666666667"
      ]
     },
     "execution_count": 45,
     "metadata": {},
     "output_type": "execute_result"
    }
   ],
   "source": [
    "np.mean(x)"
   ]
  },
  {
   "cell_type": "code",
   "execution_count": 63,
   "id": "5d1b6dd5-d8a7-4c4c-a92b-ad7857f7c204",
   "metadata": {},
   "outputs": [
    {
     "data": {
      "text/plain": [
       "nan"
      ]
     },
     "execution_count": 63,
     "metadata": {},
     "output_type": "execute_result"
    }
   ],
   "source": [
    "np.mean(x_nan) # not a number "
   ]
  },
  {
   "cell_type": "code",
   "execution_count": 49,
   "id": "33b1a708-9be5-4a42-9a92-46a92902365e",
   "metadata": {},
   "outputs": [
    {
     "data": {
      "text/plain": [
       "[60, 84, 65, 67, 75, 72, 80, 85, 63, 82, 70, 75]"
      ]
     },
     "execution_count": 49,
     "metadata": {},
     "output_type": "execute_result"
    }
   ],
   "source": [
    "x\n"
   ]
  },
  {
   "cell_type": "code",
   "execution_count": 51,
   "id": "c465ab99-9fe9-4a6b-83b1-f463a225b442",
   "metadata": {},
   "outputs": [],
   "source": [
    "y = np.array(x) # iki boyutlu bir array oluşturuyoruz "
   ]
  },
  {
   "cell_type": "code",
   "execution_count": 53,
   "id": "31416c26-5afa-469b-b2be-fe71deaac0dd",
   "metadata": {},
   "outputs": [
    {
     "data": {
      "text/plain": [
       "numpy.ndarray"
      ]
     },
     "execution_count": 53,
     "metadata": {},
     "output_type": "execute_result"
    }
   ],
   "source": [
    "type(y)"
   ]
  },
  {
   "cell_type": "code",
   "execution_count": 55,
   "id": "b40395e1-410f-4527-9eab-0a951eef6398",
   "metadata": {},
   "outputs": [
    {
     "data": {
      "text/plain": [
       "array([60, 84, 65, 67, 75, 72, 80, 85, 63, 82, 70, 75])"
      ]
     },
     "execution_count": 55,
     "metadata": {},
     "output_type": "execute_result"
    }
   ],
   "source": [
    "y"
   ]
  },
  {
   "cell_type": "code",
   "execution_count": 57,
   "id": "f9641f13-c4f4-422b-b65a-aee7cad625ba",
   "metadata": {},
   "outputs": [
    {
     "data": {
      "text/plain": [
       "73.16666666666667"
      ]
     },
     "execution_count": 57,
     "metadata": {},
     "output_type": "execute_result"
    }
   ],
   "source": [
    "np.mean(y)"
   ]
  },
  {
   "cell_type": "code",
   "execution_count": 75,
   "id": "f16457c0-95cb-4b06-9edb-f2004d52fd06",
   "metadata": {},
   "outputs": [
    {
     "ename": "AttributeError",
     "evalue": "'list' object has no attribute 'mean'",
     "output_type": "error",
     "traceback": [
      "\u001b[0;31m---------------------------------------------------------------------------\u001b[0m",
      "\u001b[0;31mAttributeError\u001b[0m                            Traceback (most recent call last)",
      "Cell \u001b[0;32mIn[75], line 1\u001b[0m\n\u001b[0;32m----> 1\u001b[0m x\u001b[38;5;241m.\u001b[39mmean()\n",
      "\u001b[0;31mAttributeError\u001b[0m: 'list' object has no attribute 'mean'"
     ]
    }
   ],
   "source": [
    "x.mean() #if type of list then can not calculate  mean"
   ]
  },
  {
   "cell_type": "code",
   "execution_count": 61,
   "id": "3330ef51-7228-491a-8620-2ac42fe9c907",
   "metadata": {},
   "outputs": [
    {
     "data": {
      "text/plain": [
       "73.16666666666667"
      ]
     },
     "execution_count": 61,
     "metadata": {},
     "output_type": "execute_result"
    }
   ],
   "source": [
    "y.mean()"
   ]
  },
  {
   "cell_type": "code",
   "execution_count": 65,
   "id": "fffa52e0-4a78-43db-87c9-d6e63d4dde84",
   "metadata": {},
   "outputs": [
    {
     "data": {
      "text/plain": [
       "73.16666666666667"
      ]
     },
     "execution_count": 65,
     "metadata": {},
     "output_type": "execute_result"
    }
   ],
   "source": [
    "np.mean(x)"
   ]
  },
  {
   "cell_type": "code",
   "execution_count": 69,
   "id": "218ecfdf-7fb9-4467-8ee6-4220be0a8fa4",
   "metadata": {},
   "outputs": [],
   "source": [
    "y_nan = np.array(x_nan)"
   ]
  },
  {
   "cell_type": "code",
   "execution_count": 71,
   "id": "bb73d612-3f1e-477a-8bc0-dcaf65a452e8",
   "metadata": {},
   "outputs": [
    {
     "data": {
      "text/plain": [
       "array([nan, 60., 84., 65., 67., 75., 72., 80., 85., 63., 82., 70., 75.])"
      ]
     },
     "execution_count": 71,
     "metadata": {},
     "output_type": "execute_result"
    }
   ],
   "source": [
    "y_nan"
   ]
  },
  {
   "cell_type": "code",
   "execution_count": 73,
   "id": "4f5a35ab-e13d-46d8-a812-d2a88472a7a6",
   "metadata": {},
   "outputs": [
    {
     "data": {
      "text/plain": [
       "73.16666666666667"
      ]
     },
     "execution_count": 73,
     "metadata": {},
     "output_type": "execute_result"
    }
   ],
   "source": [
    "np.mean(y)"
   ]
  },
  {
   "cell_type": "code",
   "execution_count": 77,
   "id": "8dd9f1c5-c9d5-46c1-8877-e4dcf60896a4",
   "metadata": {},
   "outputs": [],
   "source": [
    "#pandas "
   ]
  },
  {
   "cell_type": "code",
   "execution_count": 81,
   "id": "deddf8f0-6e66-439c-98e5-dc5f208e2e00",
   "metadata": {},
   "outputs": [],
   "source": [
    "z, z_nan = pd.Series(x), pd.Series(x_nan)"
   ]
  },
  {
   "cell_type": "code",
   "execution_count": 83,
   "id": "633c5a3b-8a83-4638-9fc9-cd5f763dd927",
   "metadata": {},
   "outputs": [
    {
     "data": {
      "text/plain": [
       "0     60\n",
       "1     84\n",
       "2     65\n",
       "3     67\n",
       "4     75\n",
       "5     72\n",
       "6     80\n",
       "7     85\n",
       "8     63\n",
       "9     82\n",
       "10    70\n",
       "11    75\n",
       "dtype: int64"
      ]
     },
     "execution_count": 83,
     "metadata": {},
     "output_type": "execute_result"
    }
   ],
   "source": [
    "z"
   ]
  },
  {
   "cell_type": "code",
   "execution_count": 87,
   "id": "7a541d57-e260-4729-a601-2f039e3fa178",
   "metadata": {},
   "outputs": [
    {
     "data": {
      "text/plain": [
       "0      NaN\n",
       "1     60.0\n",
       "2     84.0\n",
       "3     65.0\n",
       "4     67.0\n",
       "5     75.0\n",
       "6     72.0\n",
       "7     80.0\n",
       "8     85.0\n",
       "9     63.0\n",
       "10    82.0\n",
       "11    70.0\n",
       "12    75.0\n",
       "dtype: float64"
      ]
     },
     "execution_count": 87,
     "metadata": {},
     "output_type": "execute_result"
    }
   ],
   "source": [
    "z_nan #array olduğu için float olarak oldu x "
   ]
  },
  {
   "cell_type": "code",
   "execution_count": 89,
   "id": "65be4a5d-bc89-4166-a5d4-6756ffd52f1e",
   "metadata": {},
   "outputs": [
    {
     "data": {
      "text/plain": [
       "pandas.core.series.Series"
      ]
     },
     "execution_count": 89,
     "metadata": {},
     "output_type": "execute_result"
    }
   ],
   "source": [
    "type(z)"
   ]
  },
  {
   "cell_type": "code",
   "execution_count": 91,
   "id": "0763c842-e052-4848-b2fc-776a5d90b349",
   "metadata": {},
   "outputs": [
    {
     "data": {
      "text/plain": [
       "73.16666666666667"
      ]
     },
     "execution_count": 91,
     "metadata": {},
     "output_type": "execute_result"
    }
   ],
   "source": [
    "z.mean()"
   ]
  },
  {
   "cell_type": "code",
   "execution_count": 97,
   "id": "a4b53879-1905-4043-8892-94ea1a6cd983",
   "metadata": {},
   "outputs": [
    {
     "data": {
      "text/plain": [
       "<bound method Series.mean of 0      NaN\n",
       "1     60.0\n",
       "2     84.0\n",
       "3     65.0\n",
       "4     67.0\n",
       "5     75.0\n",
       "6     72.0\n",
       "7     80.0\n",
       "8     85.0\n",
       "9     63.0\n",
       "10    82.0\n",
       "11    70.0\n",
       "12    75.0\n",
       "dtype: float64>"
      ]
     },
     "execution_count": 97,
     "metadata": {},
     "output_type": "execute_result"
    }
   ],
   "source": [
    "z_nan.mean # pd.Series nesnedeki .mean() fonksiyonunu NaN değerlerini görmezden gelir "
   ]
  },
  {
   "cell_type": "code",
   "execution_count": 99,
   "id": "73413fe0-6c43-4382-9e8a-986553472499",
   "metadata": {},
   "outputs": [
    {
     "data": {
      "text/plain": [
       "nan"
      ]
     },
     "execution_count": 99,
     "metadata": {},
     "output_type": "execute_result"
    }
   ],
   "source": [
    "z_nan.mean(skipna=False "
   ]
  },
  {
   "cell_type": "code",
   "execution_count": 109,
   "id": "7e232819-96be-44e7-8280-2412cfc3e88f",
   "metadata": {},
   "outputs": [],
   "source": [
    "## Medyan Ortanca"
   ]
  },
  {
   "cell_type": "code",
   "execution_count": 103,
   "id": "dd708dce-0a79-402d-8d5e-8ec8baae4ec7",
   "metadata": {},
   "outputs": [
    {
     "data": {
      "text/plain": [
       "[60, 84, 65, 67, 75, 72, 80, 85, 63, 82, 70, 75]"
      ]
     },
     "execution_count": 103,
     "metadata": {},
     "output_type": "execute_result"
    }
   ],
   "source": [
    "x"
   ]
  },
  {
   "cell_type": "code",
   "execution_count": 105,
   "id": "1b67c1c8-0c2d-4468-906f-d4b250ee550e",
   "metadata": {},
   "outputs": [
    {
     "data": {
      "text/plain": [
       "12"
      ]
     },
     "execution_count": 105,
     "metadata": {},
     "output_type": "execute_result"
    }
   ],
   "source": [
    "len(x)"
   ]
  },
  {
   "cell_type": "code",
   "execution_count": 107,
   "id": "e48f089e-9952-4ecd-a383-f268b0f3809c",
   "metadata": {},
   "outputs": [
    {
     "data": {
      "text/plain": [
       "[60, 63, 65, 67, 70, 72, 75, 75, 80, 82, 84, 85]"
      ]
     },
     "execution_count": 107,
     "metadata": {},
     "output_type": "execute_result"
    }
   ],
   "source": [
    "sorted(x)"
   ]
  },
  {
   "cell_type": "code",
   "execution_count": 111,
   "id": "164104cd-43f2-4665-b436-ce1c00ad8854",
   "metadata": {},
   "outputs": [
    {
     "data": {
      "text/plain": [
       "[60, 63, 65, 67, 70, 72, 75, 75, 80, 82, 84, 85]"
      ]
     },
     "execution_count": 111,
     "metadata": {},
     "output_type": "execute_result"
    }
   ],
   "source": [
    "x_s = sorted(x)\n",
    "x_s"
   ]
  },
  {
   "cell_type": "code",
   "execution_count": 113,
   "id": "e0636be1-4a04-4cb5-8f9d-848d1e672c1a",
   "metadata": {},
   "outputs": [],
   "source": [
    "n = len(x_s)"
   ]
  },
  {
   "cell_type": "code",
   "execution_count": 115,
   "id": "1e7d57b8-88d0-43a1-aaa0-f98479dae8b5",
   "metadata": {},
   "outputs": [
    {
     "data": {
      "text/plain": [
       "12"
      ]
     },
     "execution_count": 115,
     "metadata": {},
     "output_type": "execute_result"
    }
   ],
   "source": [
    "n"
   ]
  },
  {
   "cell_type": "code",
   "execution_count": 117,
   "id": "515b99c9-4a3a-441e-b062-7974a06799e9",
   "metadata": {},
   "outputs": [],
   "source": [
    "# Biraz yuvarlama çalışalım"
   ]
  },
  {
   "cell_type": "code",
   "execution_count": 119,
   "id": "156e7cf2-41a8-4b2d-b14b-9dffe19aa567",
   "metadata": {},
   "outputs": [
    {
     "data": {
      "text/plain": [
       "3"
      ]
     },
     "execution_count": 119,
     "metadata": {},
     "output_type": "execute_result"
    }
   ],
   "source": [
    "round(3)"
   ]
  },
  {
   "cell_type": "code",
   "execution_count": 121,
   "id": "66fb5846-1140-4983-b76b-0dbdbb562b5f",
   "metadata": {},
   "outputs": [
    {
     "data": {
      "text/plain": [
       "3"
      ]
     },
     "execution_count": 121,
     "metadata": {},
     "output_type": "execute_result"
    }
   ],
   "source": [
    "round(2.8)"
   ]
  },
  {
   "cell_type": "code",
   "execution_count": 123,
   "id": "e2b6756d-08ef-4a9c-aec7-748eb60da52a",
   "metadata": {},
   "outputs": [
    {
     "data": {
      "text/plain": [
       "4"
      ]
     },
     "execution_count": 123,
     "metadata": {},
     "output_type": "execute_result"
    }
   ],
   "source": [
    "round(3.5)"
   ]
  },
  {
   "cell_type": "code",
   "execution_count": 125,
   "id": "9326462a-0237-4b82-8217-6ce9deb3473f",
   "metadata": {},
   "outputs": [
    {
     "data": {
      "text/plain": [
       "2"
      ]
     },
     "execution_count": 125,
     "metadata": {},
     "output_type": "execute_result"
    }
   ],
   "source": [
    "round(2.5)"
   ]
  },
  {
   "cell_type": "code",
   "execution_count": 127,
   "id": "68267b10-c17c-45d4-a2f2-7d3f2d4d7039",
   "metadata": {},
   "outputs": [],
   "source": [
    "# yuvarlanacak değer ile kendisine en yakın tam sayılar arasındaki uzaklıklar eşit ise round() fonksiyonu değeri çift olan tamsaysısa yuvalar"
   ]
  },
  {
   "cell_type": "code",
   "execution_count": 129,
   "id": "04c61759-044a-4481-877c-302876c0eb40",
   "metadata": {},
   "outputs": [
    {
     "data": {
      "text/plain": [
       "2"
      ]
     },
     "execution_count": 129,
     "metadata": {},
     "output_type": "execute_result"
    }
   ],
   "source": [
    "math.floor(2.5)"
   ]
  },
  {
   "cell_type": "code",
   "execution_count": 139,
   "id": "15696706-a023-4b17-9f39-1b58a09740e7",
   "metadata": {},
   "outputs": [
    {
     "data": {
      "text/plain": [
       "1"
      ]
     },
     "execution_count": 139,
     "metadata": {},
     "output_type": "execute_result"
    }
   ],
   "source": [
    "math.floor(1.5) #aşağı yuvarlama"
   ]
  },
  {
   "cell_type": "code",
   "execution_count": 137,
   "id": "7b4bd358-bd7f-462e-808c-f37d947dc160",
   "metadata": {},
   "outputs": [
    {
     "data": {
      "text/plain": [
       "2"
      ]
     },
     "execution_count": 137,
     "metadata": {},
     "output_type": "execute_result"
    }
   ],
   "source": [
    "math.ceil(1.5) #yukarı yuvarlama"
   ]
  },
  {
   "cell_type": "code",
   "execution_count": 141,
   "id": "1a7053f6-d484-4971-bb85-bb9cf13268d0",
   "metadata": {},
   "outputs": [],
   "source": [
    "# pure python ile medyan"
   ]
  },
  {
   "cell_type": "code",
   "execution_count": 147,
   "id": "a37de507-bbaf-4848-94be-979cfd29fa4e",
   "metadata": {},
   "outputs": [],
   "source": [
    "if n%2 == 0: \n",
    "    median = 0.5 * (x [math.floor(0.5*n)] + x[math.floor(0.5*n + 1)])\n",
    "else: \n",
    "    median = x[math.floor(0.5 *n)]"
   ]
  },
  {
   "cell_type": "code",
   "execution_count": 151,
   "id": "5db098ac-e05b-4c2e-a993-6c2bfea9d72d",
   "metadata": {},
   "outputs": [
    {
     "data": {
      "text/plain": [
       "82.5"
      ]
     },
     "execution_count": 151,
     "metadata": {},
     "output_type": "execute_result"
    }
   ],
   "source": [
    "median #indexler 0 dan başlar  o yüzden yanlış"
   ]
  },
  {
   "cell_type": "code",
   "execution_count": 161,
   "id": "afa9fea4-c596-4f4d-a4b8-e7cbab97aec8",
   "metadata": {},
   "outputs": [],
   "source": [
    "if n%2 == 0: \n",
    "    median = 0.5 * (x_s[math.floor(0.5*n)-1] + x_s[math.floor(0.5*n)])\n",
    "else: \n",
    "    median = x_s[math.floor(0.5 *n)]"
   ]
  },
  {
   "cell_type": "code",
   "execution_count": 163,
   "id": "89b7e664-4b73-4ebb-9f26-e919dfa96532",
   "metadata": {},
   "outputs": [
    {
     "data": {
      "text/plain": [
       "73.5"
      ]
     },
     "execution_count": 163,
     "metadata": {},
     "output_type": "execute_result"
    }
   ],
   "source": [
    "median"
   ]
  },
  {
   "cell_type": "code",
   "execution_count": 165,
   "id": "de45f2d4-1a0c-465d-8b34-9940911e871c",
   "metadata": {},
   "outputs": [
    {
     "data": {
      "text/plain": [
       "73.5"
      ]
     },
     "execution_count": 165,
     "metadata": {},
     "output_type": "execute_result"
    }
   ],
   "source": [
    "statistics.median(x_s)"
   ]
  },
  {
   "cell_type": "code",
   "execution_count": 167,
   "id": "5ff29a00-c3f0-4538-9845-bee35ef1ff49",
   "metadata": {},
   "outputs": [
    {
     "data": {
      "text/plain": [
       "73.5"
      ]
     },
     "execution_count": 167,
     "metadata": {},
     "output_type": "execute_result"
    }
   ],
   "source": [
    "statistics.median(x)"
   ]
  },
  {
   "cell_type": "code",
   "execution_count": 169,
   "id": "ab297f6c-fd05-4a1d-b27c-2a5ecff5ff6b",
   "metadata": {},
   "outputs": [
    {
     "data": {
      "text/plain": [
       "72"
      ]
     },
     "execution_count": 169,
     "metadata": {},
     "output_type": "execute_result"
    }
   ],
   "source": [
    "statistics.median_low(x)"
   ]
  },
  {
   "cell_type": "code",
   "execution_count": 171,
   "id": "2fe86d0a-fc0d-4aff-8c84-2274acd4a513",
   "metadata": {},
   "outputs": [
    {
     "data": {
      "text/plain": [
       "[60, 63, 65, 67, 70, 72, 75, 75, 80, 82, 84, 85]"
      ]
     },
     "execution_count": 171,
     "metadata": {},
     "output_type": "execute_result"
    }
   ],
   "source": [
    "x_s[:]"
   ]
  },
  {
   "cell_type": "code",
   "execution_count": 173,
   "id": "99a08ae4-fc2e-4c75-ac0a-db06d0b5ac8d",
   "metadata": {},
   "outputs": [
    {
     "data": {
      "text/plain": [
       "[60, 63, 65, 67, 70, 72, 75, 75, 80, 82, 84]"
      ]
     },
     "execution_count": 173,
     "metadata": {},
     "output_type": "execute_result"
    }
   ],
   "source": [
    "x_s[:-1]"
   ]
  },
  {
   "cell_type": "code",
   "execution_count": 177,
   "id": "63a66184-ec5e-4fb7-8b06-9c505750f859",
   "metadata": {},
   "outputs": [
    {
     "data": {
      "text/plain": [
       "72"
      ]
     },
     "execution_count": 177,
     "metadata": {},
     "output_type": "execute_result"
    }
   ],
   "source": [
    "statistics.median(x_s[:-1])"
   ]
  },
  {
   "cell_type": "code",
   "execution_count": 179,
   "id": "86ff6ae8-3171-40ed-ba5a-b5bade197a49",
   "metadata": {},
   "outputs": [
    {
     "data": {
      "text/plain": [
       "[nan, 60, 84, 65, 67, 75, 72, 80, 85, 63, 82, 70, 75]"
      ]
     },
     "execution_count": 179,
     "metadata": {},
     "output_type": "execute_result"
    }
   ],
   "source": [
    "x_nan"
   ]
  },
  {
   "cell_type": "code",
   "execution_count": 181,
   "id": "4dfa8fe9-7577-4a03-b4bb-d171f1a35ecd",
   "metadata": {},
   "outputs": [
    {
     "data": {
      "text/plain": [
       "72"
      ]
     },
     "execution_count": 181,
     "metadata": {},
     "output_type": "execute_result"
    }
   ],
   "source": [
    "statistics.median(x_nan)"
   ]
  },
  {
   "cell_type": "code",
   "execution_count": 183,
   "id": "4c5fe0db-7c9e-477b-8764-0fb611ef9dba",
   "metadata": {},
   "outputs": [],
   "source": [
    "# numpy ile "
   ]
  },
  {
   "cell_type": "code",
   "execution_count": 185,
   "id": "3d9d7822-4b60-44f6-b3ac-8e7cc240c65a",
   "metadata": {},
   "outputs": [
    {
     "data": {
      "text/plain": [
       "73.5"
      ]
     },
     "execution_count": 185,
     "metadata": {},
     "output_type": "execute_result"
    }
   ],
   "source": [
    "np.median(x)"
   ]
  },
  {
   "cell_type": "code",
   "execution_count": 187,
   "id": "14af8cb9-0200-4e9e-b2ce-8d6485166fec",
   "metadata": {},
   "outputs": [
    {
     "data": {
      "text/plain": [
       "73.5"
      ]
     },
     "execution_count": 187,
     "metadata": {},
     "output_type": "execute_result"
    }
   ],
   "source": [
    "np.median(y)"
   ]
  },
  {
   "cell_type": "code",
   "execution_count": 189,
   "id": "f4f9f1e9-29f8-4827-803e-48ae1cbf1a2f",
   "metadata": {},
   "outputs": [
    {
     "data": {
      "text/plain": [
       "nan"
      ]
     },
     "execution_count": 189,
     "metadata": {},
     "output_type": "execute_result"
    }
   ],
   "source": [
    "np.median(x_nan)"
   ]
  },
  {
   "cell_type": "code",
   "execution_count": 193,
   "id": "ba6e0de3-ff1f-4f44-acd3-95ebd5559b2e",
   "metadata": {},
   "outputs": [
    {
     "data": {
      "text/plain": [
       "73.5"
      ]
     },
     "execution_count": 193,
     "metadata": {},
     "output_type": "execute_result"
    }
   ],
   "source": [
    "np.nanmedian(y_nan) ## number olmayanları görmezden geliyor"
   ]
  },
  {
   "cell_type": "code",
   "execution_count": 195,
   "id": "eb50c943-a418-45bb-838d-a6a4879f61a1",
   "metadata": {},
   "outputs": [],
   "source": [
    "# MOD "
   ]
  },
  {
   "cell_type": "code",
   "execution_count": 197,
   "id": "33ea3d2b-8fd7-4ea5-81da-71dc500320c3",
   "metadata": {},
   "outputs": [],
   "source": [
    "#pure python ile "
   ]
  },
  {
   "cell_type": "code",
   "execution_count": 207,
   "id": "0271a26a-9b13-4e2d-a32d-52795c2d9128",
   "metadata": {},
   "outputs": [],
   "source": [
    "mode = max((x.count(item),item) for item in set(x))"
   ]
  },
  {
   "cell_type": "code",
   "execution_count": 205,
   "id": "c9c0b5ae-0b26-4af6-bbed-805dc82d5d99",
   "metadata": {},
   "outputs": [
    {
     "data": {
      "text/plain": [
       "{60, 63, 65, 67, 70, 72, 75, 80, 82, 84, 85}"
      ]
     },
     "execution_count": 205,
     "metadata": {},
     "output_type": "execute_result"
    }
   ],
   "source": [
    "set(x)"
   ]
  },
  {
   "cell_type": "code",
   "execution_count": 211,
   "id": "384aaff9-0c75-453a-865e-4516667fcf5e",
   "metadata": {},
   "outputs": [
    {
     "name": "stdout",
     "output_type": "stream",
     "text": [
      "(1, 65)\n",
      "(1, 67)\n",
      "(1, 70)\n",
      "(1, 72)\n",
      "(2, 75)\n",
      "(1, 80)\n",
      "(1, 82)\n",
      "(1, 84)\n",
      "(1, 85)\n",
      "(1, 60)\n",
      "(1, 63)\n"
     ]
    }
   ],
   "source": [
    "for item in set(x):\n",
    "    print((x.count(item),item))"
   ]
  },
  {
   "cell_type": "code",
   "execution_count": 213,
   "id": "0001510e-8e8a-4947-84fb-def85650a92a",
   "metadata": {},
   "outputs": [
    {
     "data": {
      "text/plain": [
       "{60, 63, 65, 67, 70, 72, 75, 80, 82, 84, 85}"
      ]
     },
     "execution_count": 213,
     "metadata": {},
     "output_type": "execute_result"
    }
   ],
   "source": [
    "set(x)"
   ]
  },
  {
   "cell_type": "code",
   "execution_count": 217,
   "id": "37f37391-88fc-43df-a6f2-2891dfc4eccf",
   "metadata": {},
   "outputs": [],
   "source": [
    "mode = max((x.count(item),item) for item in set(x))[1]"
   ]
  },
  {
   "cell_type": "code",
   "execution_count": 219,
   "id": "b54b1930-265c-406a-8510-4bdf490dead2",
   "metadata": {},
   "outputs": [
    {
     "data": {
      "text/plain": [
       "75"
      ]
     },
     "execution_count": 219,
     "metadata": {},
     "output_type": "execute_result"
    }
   ],
   "source": [
    "mode"
   ]
  },
  {
   "cell_type": "code",
   "execution_count": 221,
   "id": "3ddada35-0fcf-4573-a98b-deef6fbe628b",
   "metadata": {},
   "outputs": [
    {
     "data": {
      "text/plain": [
       "75"
      ]
     },
     "execution_count": 221,
     "metadata": {},
     "output_type": "execute_result"
    }
   ],
   "source": [
    "statistics.mode(x)"
   ]
  },
  {
   "cell_type": "code",
   "execution_count": 223,
   "id": "d16aae36-6db8-4504-81f9-71f4e6349836",
   "metadata": {},
   "outputs": [
    {
     "data": {
      "text/plain": [
       "[75]"
      ]
     },
     "execution_count": 223,
     "metadata": {},
     "output_type": "execute_result"
    }
   ],
   "source": [
    "statistics.multimode(x)"
   ]
  },
  {
   "cell_type": "code",
   "execution_count": 225,
   "id": "7e69c487-cac6-4049-be66-028a5bd53768",
   "metadata": {},
   "outputs": [
    {
     "data": {
      "text/plain": [
       "1"
      ]
     },
     "execution_count": 225,
     "metadata": {},
     "output_type": "execute_result"
    }
   ],
   "source": [
    "statistics.mode([1,1,2, math.nan,math.nan])"
   ]
  },
  {
   "cell_type": "code",
   "execution_count": 227,
   "id": "754ccdda-ba9f-48b9-8d7c-d55ec247551a",
   "metadata": {},
   "outputs": [
    {
     "data": {
      "text/plain": [
       "[1, nan]"
      ]
     },
     "execution_count": 227,
     "metadata": {},
     "output_type": "execute_result"
    }
   ],
   "source": [
    "statistics.multimode([1,1,2, math.nan,math.nan])"
   ]
  },
  {
   "cell_type": "code",
   "execution_count": 229,
   "id": "fe87b5b9-4d49-471f-a7df-e713e2924351",
   "metadata": {},
   "outputs": [],
   "source": [
    "mode = scipy.stats.mode(x)"
   ]
  },
  {
   "cell_type": "code",
   "execution_count": 231,
   "id": "d63a5cda-b328-4d3c-845f-9112e7100117",
   "metadata": {},
   "outputs": [
    {
     "data": {
      "text/plain": [
       "ModeResult(mode=75, count=2)"
      ]
     },
     "execution_count": 231,
     "metadata": {},
     "output_type": "execute_result"
    }
   ],
   "source": [
    "mode"
   ]
  },
  {
   "cell_type": "code",
   "execution_count": 233,
   "id": "b11196b4-71b8-43f5-b79e-cf8cd7229daa",
   "metadata": {},
   "outputs": [],
   "source": [
    "## kartiller (çeyrekliliker)"
   ]
  },
  {
   "cell_type": "code",
   "execution_count": 239,
   "id": "6e631bca-a198-42e0-8a40-f37d2c9a53a3",
   "metadata": {},
   "outputs": [
    {
     "data": {
      "text/plain": [
       "[60, 84, 65, 67, 75, 72, 80, 85, 63, 82, 70, 75]"
      ]
     },
     "execution_count": 239,
     "metadata": {},
     "output_type": "execute_result"
    }
   ],
   "source": [
    "x"
   ]
  },
  {
   "cell_type": "code",
   "execution_count": 241,
   "id": "257a8a68-a7c9-4805-825e-c8b3f244108a",
   "metadata": {},
   "outputs": [
    {
     "data": {
      "text/plain": [
       "[65.5, 73.5, 81.5]"
      ]
     },
     "execution_count": 241,
     "metadata": {},
     "output_type": "execute_result"
    }
   ],
   "source": [
    "statistics.quantiles(x, n=4)"
   ]
  },
  {
   "cell_type": "code",
   "execution_count": 243,
   "id": "036bdc8f-d6eb-49b4-88ca-4d6fa95bc426",
   "metadata": {},
   "outputs": [
    {
     "data": {
      "text/plain": [
       "[73.5]"
      ]
     },
     "execution_count": 243,
     "metadata": {},
     "output_type": "execute_result"
    }
   ],
   "source": [
    "statistics.quantiles(x, n=2)"
   ]
  },
  {
   "cell_type": "code",
   "execution_count": 245,
   "id": "e7b58b9b-2027-4d21-b06b-750eb95813e2",
   "metadata": {},
   "outputs": [
    {
     "data": {
      "text/plain": [
       "[65.5, 73.5, 81.5]"
      ]
     },
     "execution_count": 245,
     "metadata": {},
     "output_type": "execute_result"
    }
   ],
   "source": [
    "statistics.quantiles(x)"
   ]
  },
  {
   "cell_type": "code",
   "execution_count": 249,
   "id": "6b1b156c-7f40-400f-ad22-a496be1e2fbd",
   "metadata": {},
   "outputs": [
    {
     "data": {
      "text/plain": [
       "array([66.5, 73.5, 80.5])"
      ]
     },
     "execution_count": 249,
     "metadata": {},
     "output_type": "execute_result"
    }
   ],
   "source": [
    "np.quantile(x, [0.25, 0.5, 0.75])"
   ]
  },
  {
   "cell_type": "code",
   "execution_count": 251,
   "id": "45f737d2-9c4c-4ca9-b213-ae7904d3723c",
   "metadata": {},
   "outputs": [
    {
     "data": {
      "text/plain": [
       "63.2"
      ]
     },
     "execution_count": 251,
     "metadata": {},
     "output_type": "execute_result"
    }
   ],
   "source": [
    "np.quantile(x, 0.1)"
   ]
  },
  {
   "cell_type": "code",
   "execution_count": 253,
   "id": "611544a2-bc21-41d2-b105-4798256ea5b7",
   "metadata": {},
   "outputs": [
    {
     "data": {
      "text/plain": [
       "73.5"
      ]
     },
     "execution_count": 253,
     "metadata": {},
     "output_type": "execute_result"
    }
   ],
   "source": [
    "z.quantile(0.5)"
   ]
  },
  {
   "cell_type": "code",
   "execution_count": 255,
   "id": "76869d62-87e4-499d-9dcc-bff34c089ae7",
   "metadata": {},
   "outputs": [
    {
     "data": {
      "text/plain": [
       "66.5"
      ]
     },
     "execution_count": 255,
     "metadata": {},
     "output_type": "execute_result"
    }
   ],
   "source": [
    "z.quantile(0.25)"
   ]
  },
  {
   "cell_type": "code",
   "execution_count": 257,
   "id": "525e8f75-a457-4412-bccf-cfede56f5237",
   "metadata": {},
   "outputs": [],
   "source": [
    "## varyans "
   ]
  },
  {
   "cell_type": "code",
   "execution_count": 259,
   "id": "26085065-a771-4f07-aa00-8acfaa60898d",
   "metadata": {},
   "outputs": [
    {
     "data": {
      "text/plain": [
       "73.16666666666667"
      ]
     },
     "execution_count": 259,
     "metadata": {},
     "output_type": "execute_result"
    }
   ],
   "source": [
    "mean "
   ]
  },
  {
   "cell_type": "code",
   "execution_count": 261,
   "id": "ef5af461-db45-43dd-b500-ce69448c9e37",
   "metadata": {},
   "outputs": [],
   "source": [
    "var = sum((item-mean)**2 for item in x) / (n-1)"
   ]
  },
  {
   "cell_type": "code",
   "execution_count": 263,
   "id": "5b0b2f71-e1c0-4ae6-be49-3e1a0ba5706f",
   "metadata": {},
   "outputs": [
    {
     "data": {
      "text/plain": [
       "71.06060606060606"
      ]
     },
     "execution_count": 263,
     "metadata": {},
     "output_type": "execute_result"
    }
   ],
   "source": [
    "var"
   ]
  },
  {
   "cell_type": "code",
   "execution_count": 265,
   "id": "1d06259c-7261-471b-bd7c-87837d91eadb",
   "metadata": {},
   "outputs": [
    {
     "data": {
      "text/plain": [
       "71.06060606060606"
      ]
     },
     "execution_count": 265,
     "metadata": {},
     "output_type": "execute_result"
    }
   ],
   "source": [
    "statistics.variance(x)"
   ]
  },
  {
   "cell_type": "code",
   "execution_count": 267,
   "id": "6b6fc470-efe2-4886-9d38-d0f88ff363ec",
   "metadata": {},
   "outputs": [
    {
     "data": {
      "text/plain": [
       "65.13888888888889"
      ]
     },
     "execution_count": 267,
     "metadata": {},
     "output_type": "execute_result"
    }
   ],
   "source": [
    "np.var(x)"
   ]
  },
  {
   "cell_type": "code",
   "execution_count": 269,
   "id": "def8de90-62a3-4332-974d-eff408b836bc",
   "metadata": {},
   "outputs": [
    {
     "data": {
      "text/plain": [
       "71.06060606060606"
      ]
     },
     "execution_count": 269,
     "metadata": {},
     "output_type": "execute_result"
    }
   ],
   "source": [
    "np.var(x, ddof=1)"
   ]
  },
  {
   "cell_type": "code",
   "execution_count": 271,
   "id": "1640d093-53b0-4845-9fa8-c6eb26b46448",
   "metadata": {},
   "outputs": [],
   "source": [
    "#standart sapma \n",
    "std = var ** (0.5)"
   ]
  },
  {
   "cell_type": "code",
   "execution_count": 273,
   "id": "19aebb6c-1897-4516-b79c-a65648890d88",
   "metadata": {},
   "outputs": [
    {
     "data": {
      "text/plain": [
       "8.429745314100899"
      ]
     },
     "execution_count": 273,
     "metadata": {},
     "output_type": "execute_result"
    }
   ],
   "source": [
    "std"
   ]
  },
  {
   "cell_type": "markdown",
   "id": "8fd93d09-ef4a-4447-83f7-c0382d1a44ec",
   "metadata": {},
   "source": [
    "## istatistiksel modelleme ve grafiksel tanılar"
   ]
  },
  {
   "cell_type": "code",
   "execution_count": 276,
   "id": "2690a73e-d2f1-4812-b650-719bc6917246",
   "metadata": {},
   "outputs": [],
   "source": [
    "import matplotlib.pyplot as plt"
   ]
  },
  {
   "cell_type": "code",
   "execution_count": 278,
   "id": "a5733040-2037-4f86-9881-7bc4d83075b1",
   "metadata": {},
   "outputs": [],
   "source": [
    "plt.style.use('ggplot')"
   ]
  },
  {
   "cell_type": "code",
   "execution_count": 280,
   "id": "9063b45b-7746-45d6-9960-968bcc2b2dc0",
   "metadata": {},
   "outputs": [],
   "source": [
    "# kutu grafigi"
   ]
  },
  {
   "cell_type": "code",
   "execution_count": 282,
   "id": "4bdbdef4-45ae-4606-b0a6-ef25d8c7e45a",
   "metadata": {},
   "outputs": [],
   "source": [
    "l1 = [6,8,10,12,14,9,11,7,13,11]\n",
    "l2 = [1,19,2,18,11,10,3,17,4,17]"
   ]
  },
  {
   "cell_type": "code",
   "execution_count": 284,
   "id": "a69dd83a-2d46-42ac-adc0-1d8eecfb1352",
   "metadata": {},
   "outputs": [
    {
     "data": {
      "image/png": "[encoded data removed]",
      "text/plain": [
       "<Figure size 640x480 with 1 Axes>"
      ]
     },
     "metadata": {},
     "output_type": "display_data"
    }
   ],
   "source": [
    "fig, ax = plt.subplots()\n",
    "ax.boxplot((l1,l2), vert=False, showmeans= True, meanline = True,\n",
    "          labels= ('Sube1', 'Sube2'), patch_artist= True,\n",
    "          medianprops={'linewidth':2, 'color': 'purple'},\n",
    "          meanprops={'linewidth':2,'color':'red'})\n",
    "plt.show()"
   ]
  },
  {
   "cell_type": "code",
   "execution_count": 290,
   "id": "1a2583e5-a770-458a-b6ce-0abff5ca33a9",
   "metadata": {},
   "outputs": [
    {
     "data": {
      "image/png": "[encoded data removed]",
      "text/plain": [
       "<Figure size 640x480 with 1 Axes>"
      ]
     },
     "metadata": {},
     "output_type": "display_data"
    }
   ],
   "source": [
    "fig, ax = plt.subplots()\n",
    "ax.boxplot((l1,l2), vert=False, showmeans= True, meanline = True,\n",
    "          labels= ('Sube1', 'Sube2'), patch_artist= True,\n",
    "          medianprops={'linewidth':2, 'color': 'purple'})\n",
    "plt.show()"
   ]
  },
  {
   "cell_type": "code",
   "execution_count": 292,
   "id": "678d50d4-430b-4c0a-bedd-bcff677f2619",
   "metadata": {},
   "outputs": [],
   "source": [
    "## histogram"
   ]
  },
  {
   "cell_type": "code",
   "execution_count": 294,
   "id": "3496cf53-3083-4233-9624-f216137f05b0",
   "metadata": {},
   "outputs": [],
   "source": [
    "#temputare \n",
    "temp=[24,35,17,21,24,37,26,46,58,30,32,13,12,38,41,43,44,27,53,27]"
   ]
  },
  {
   "cell_type": "code",
   "execution_count": 296,
   "id": "c9da3b31-12f4-42a5-b0f8-2967b793cbe7",
   "metadata": {},
   "outputs": [],
   "source": [
    "hist, bin_edges = np.histogram(temp, bins = 5)"
   ]
  },
  {
   "cell_type": "code",
   "execution_count": 298,
   "id": "1d10ff90-4d28-4935-aa71-874cdc9f3072",
   "metadata": {},
   "outputs": [
    {
     "data": {
      "text/plain": [
       "array([4, 6, 4, 4, 2])"
      ]
     },
     "execution_count": 298,
     "metadata": {},
     "output_type": "execute_result"
    }
   ],
   "source": [
    "hist"
   ]
  },
  {
   "cell_type": "code",
   "execution_count": 300,
   "id": "ebd1b2e4-03eb-4c8f-b985-20e13b61237e",
   "metadata": {},
   "outputs": [
    {
     "data": {
      "text/plain": [
       "array([12. , 21.2, 30.4, 39.6, 48.8, 58. ])"
      ]
     },
     "execution_count": 300,
     "metadata": {},
     "output_type": "execute_result"
    }
   ],
   "source": [
    "bin_edges"
   ]
  },
  {
   "cell_type": "code",
   "execution_count": 302,
   "id": "c494865a-d448-402a-9d63-08bb93dafde8",
   "metadata": {},
   "outputs": [
    {
     "data": {
      "image/png": "[encoded data removed]",
      "text/plain": [
       "<Figure size 640x480 with 1 Axes>"
      ]
     },
     "metadata": {},
     "output_type": "display_data"
    }
   ],
   "source": [
    "fig, ax = plt.subplots()\n",
    "ax.hist(temp,bin_edges,cumulative= False)\n",
    "ax.set_xlabel=('Maximum Tempturate')\n",
    "w=ax.set_ylabel=('Sıklık')\n",
    "w=plt.show()"
   ]
  },
  {
   "cell_type": "code",
   "execution_count": 306,
   "id": "aaeb633f-5a73-4031-b5f6-6473922c243a",
   "metadata": {},
   "outputs": [
    {
     "data": {
      "text/plain": [
       "(array([4., 6., 5., 3., 2.]),\n",
       " array([12., 22., 32., 42., 52., 62.]),\n",
       " <BarContainer object of 5 artists>)"
      ]
     },
     "execution_count": 306,
     "metadata": {},
     "output_type": "execute_result"
    },
    {
     "data": {
      "image/png": "[encoded data removed]",
      "text/plain": [
       "<Figure size 640x480 with 1 Axes>"
      ]
     },
     "metadata": {},
     "output_type": "display_data"
    }
   ],
   "source": [
    "w= 10 \n",
    "plt.hist(temp, edgecolor = 'black',bins = np.arange(min(temp),max(temp)+w,w),)"
   ]
  },
  {
   "cell_type": "code",
   "execution_count": 308,
   "id": "1f456d91-3155-4c35-bd78-af94639f5587",
   "metadata": {},
   "outputs": [],
   "source": [
    "# bunlara ek olarak \n",
    "# 1. Pasta Grafiği \n",
    "# 2. çubuk grafiği  saçılım grafiğiği \n",
    "# 3. gövde yaprak grafiği ! "
   ]
  },
  {
   "cell_type": "code",
   "execution_count": null,
   "id": "9ca8d5b9-f408-4c03-9a43-c34102e2d93f",
   "metadata": {},
   "outputs": [],
   "source": []
  }
 ],
 "metadata": {
  "kernelspec": {
   "display_name": "Python 3 (ipykernel)",
   "language": "python",
   "name": "python3"
  },
  "language_info": {
   "codemirror_mode": {
    "name": "ipython",
    "version": 3
   },
   "file_extension": ".py",
   "mimetype": "text/x-python",
   "name": "python",
   "nbconvert_exporter": "python",
   "pygments_lexer": "ipython3",
   "version": "3.12.5"
  }
 },
 "nbformat": 4,
 "nbformat_minor": 5
}
